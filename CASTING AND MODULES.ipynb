{
 "cells": [
  {
   "cell_type": "code",
   "execution_count": null,
   "id": "f4e46aec-61dd-4493-ac1d-82f51ca0569b",
   "metadata": {},
   "outputs": [],
   "source": [
    "# 7. find (substring)\n",
    "#use: returns true if the string  ends with the specified suffix.\n",
    "# example:\n",
    "filename = 'report.pdf'\n",
    "print(filename.endswith('pdf'))"
   ]
  },
  {
   "cell_type": "markdown",
   "id": "48e93119-d304-46c7-a4a4-4874f57fdf1f",
   "metadata": {},
   "source": [
    "# CASTING AND MODULE"
   ]
  },
  {
   "cell_type": "code",
   "execution_count": 8,
   "id": "b6ead859-8f86-46a6-9666-f0d18563035e",
   "metadata": {
    "execution": {
     "iopub.execute_input": "2025-05-07T10:03:59.183515Z",
     "iopub.status.busy": "2025-05-07T10:03:59.183121Z",
     "iopub.status.idle": "2025-05-07T10:04:13.608311Z",
     "shell.execute_reply": "2025-05-07T10:04:13.607553Z",
     "shell.execute_reply.started": "2025-05-07T10:03:59.183462Z"
    }
   },
   "outputs": [
    {
     "name": "stdin",
     "output_type": "stream",
     "text": [
      "what is your name: FIDDAUSI\n"
     ]
    },
    {
     "name": "stdout",
     "output_type": "stream",
     "text": [
      "FIDDAUSI\n",
      "hello my name is  FIDDAUSI\n"
     ]
    }
   ],
   "source": [
    "# implicit casting using input method\n",
    "mystring = input( \"what is your name:\")\n",
    "print( mystring )\n",
    "print(\"hello my name is \",mystring)\n"
   ]
  },
  {
   "cell_type": "code",
   "execution_count": 27,
   "id": "ff297c63-7338-40bf-b1a6-cf6741f309b4",
   "metadata": {
    "execution": {
     "iopub.execute_input": "2025-05-07T10:37:47.105904Z",
     "iopub.status.busy": "2025-05-07T10:37:47.105262Z",
     "iopub.status.idle": "2025-05-07T10:37:53.117380Z",
     "shell.execute_reply": "2025-05-07T10:37:53.116745Z",
     "shell.execute_reply.started": "2025-05-07T10:37:47.105875Z"
    }
   },
   "outputs": [
    {
     "name": "stdin",
     "output_type": "stream",
     "text": [
      "what is your name: mary\n"
     ]
    },
    {
     "name": "stdout",
     "output_type": "stream",
     "text": [
      "mary\n",
      "hello my name is mary\n"
     ]
    }
   ],
   "source": [
    "# implicit casting using input method\n",
    "mystring = input( \"what is your name:\")\n",
    "print( mystring )\n",
    "print(\"hello my name is\",mystring)"
   ]
  },
  {
   "cell_type": "code",
   "execution_count": 28,
   "id": "03b6ae69-a862-414e-ae46-c58cd34693d8",
   "metadata": {
    "execution": {
     "iopub.execute_input": "2025-05-07T10:37:58.809020Z",
     "iopub.status.busy": "2025-05-07T10:37:58.808659Z",
     "iopub.status.idle": "2025-05-07T10:38:04.855575Z",
     "shell.execute_reply": "2025-05-07T10:38:04.854881Z",
     "shell.execute_reply.started": "2025-05-07T10:37:58.808997Z"
    }
   },
   "outputs": [
    {
     "name": "stdin",
     "output_type": "stream",
     "text": [
      " what is your name? fiddausi\n"
     ]
    },
    {
     "name": "stdout",
     "output_type": "stream",
     "text": [
      "my name is:  fiddausi\n"
     ]
    }
   ],
   "source": [
    " # example of an input funcion\n",
    "# collecting users name\n",
    "\n",
    "name = input (\" what is your name?\")\n",
    "print (\"my name is: \", name)"
   ]
  },
  {
   "cell_type": "code",
   "execution_count": 31,
   "id": "5b6c94e8-ffc7-4a38-8751-502da86d16a0",
   "metadata": {
    "execution": {
     "iopub.execute_input": "2025-05-07T10:39:48.775877Z",
     "iopub.status.busy": "2025-05-07T10:39:48.775490Z",
     "iopub.status.idle": "2025-05-07T10:39:58.302091Z",
     "shell.execute_reply": "2025-05-07T10:39:58.301394Z",
     "shell.execute_reply.started": "2025-05-07T10:39:48.775854Z"
    }
   },
   "outputs": [
    {
     "name": "stdin",
     "output_type": "stream",
     "text": [
      "A prime number between 0 and 10:  3\n",
      "A prime number between 10 and 20:  17\n"
     ]
    },
    {
     "name": "stdout",
     "output_type": "stream",
     "text": [
      "sum of my prime numbers are  20\n"
     ]
    }
   ],
   "source": [
    "# Sum of prime numbers\n",
    "prime1 = int( input(\"A prime number between 0 and 10: \"))\n",
    "prime2 = int( input(\"A prime number between 10 and 20: \"))\n",
    "prime1max = int(prime1)\n",
    "prime2max = int(prime2)\n",
    "print(\"sum of my prime numbers are \",prime1 + prime2)"
   ]
  },
  {
   "cell_type": "markdown",
   "id": "88945413-4f2b-45b1-a347-aaaf45cea96f",
   "metadata": {
    "execution": {
     "iopub.execute_input": "2025-05-07T10:32:30.403414Z",
     "iopub.status.busy": "2025-05-07T10:32:30.403125Z",
     "iopub.status.idle": "2025-05-07T10:32:30.409347Z",
     "shell.execute_reply": "2025-05-07T10:32:30.408418Z",
     "shell.execute_reply.started": "2025-05-07T10:32:30.403385Z"
    }
   },
   "source": [
    "# concept of module they are file its extension is .py definition and functions\n"
   ]
  },
  {
   "cell_type": "code",
   "execution_count": 46,
   "id": "01e4f785-29a8-490a-b575-f131381b5d0b",
   "metadata": {
    "execution": {
     "iopub.execute_input": "2025-05-07T10:50:30.678596Z",
     "iopub.status.busy": "2025-05-07T10:50:30.678222Z",
     "iopub.status.idle": "2025-05-07T10:50:30.682299Z",
     "shell.execute_reply": "2025-05-07T10:50:30.681618Z",
     "shell.execute_reply.started": "2025-05-07T10:50:30.678573Z"
    }
   },
   "outputs": [],
   "source": [
    "# defining a function\n",
    "def add(a,b,c):\n",
    "    return(a+b+c)"
   ]
  },
  {
   "cell_type": "code",
   "execution_count": 47,
   "id": "09ead8d9-f868-40e6-9b18-85499ccff4e7",
   "metadata": {
    "execution": {
     "iopub.execute_input": "2025-05-07T10:50:35.255689Z",
     "iopub.status.busy": "2025-05-07T10:50:35.255283Z",
     "iopub.status.idle": "2025-05-07T10:50:35.260058Z",
     "shell.execute_reply": "2025-05-07T10:50:35.259507Z",
     "shell.execute_reply.started": "2025-05-07T10:50:35.255662Z"
    }
   },
   "outputs": [
    {
     "data": {
      "text/plain": [
       "800"
      ]
     },
     "execution_count": 47,
     "metadata": {},
     "output_type": "execute_result"
    }
   ],
   "source": [
    "add(350,250,200)"
   ]
  },
  {
   "cell_type": "code",
   "execution_count": 59,
   "id": "0094b100-3dbe-4d8d-b623-5a64aed1c1d1",
   "metadata": {
    "execution": {
     "iopub.execute_input": "2025-05-07T11:17:08.143528Z",
     "iopub.status.busy": "2025-05-07T11:17:08.143014Z",
     "iopub.status.idle": "2025-05-07T11:17:08.149589Z",
     "shell.execute_reply": "2025-05-07T11:17:08.148678Z",
     "shell.execute_reply.started": "2025-05-07T11:17:08.143433Z"
    }
   },
   "outputs": [],
   "source": [
    "def BP(systolic_no,diastolyc_no):\n",
    "    return systolic_no + diastolyc_no"
   ]
  },
  {
   "cell_type": "code",
   "execution_count": 60,
   "id": "1048b566-a085-4797-bb83-6833f480af37",
   "metadata": {
    "execution": {
     "iopub.execute_input": "2025-05-07T11:17:11.506219Z",
     "iopub.status.busy": "2025-05-07T11:17:11.505820Z",
     "iopub.status.idle": "2025-05-07T11:17:11.513160Z",
     "shell.execute_reply": "2025-05-07T11:17:11.512394Z",
     "shell.execute_reply.started": "2025-05-07T11:17:11.506184Z"
    }
   },
   "outputs": [
    {
     "data": {
      "text/plain": [
       "200"
      ]
     },
     "execution_count": 60,
     "metadata": {},
     "output_type": "execute_result"
    }
   ],
   "source": [
    "BP(120,80)"
   ]
  },
  {
   "cell_type": "code",
   "execution_count": 71,
   "id": "86d94ca3-5efd-45fc-93f7-080a25d51e6c",
   "metadata": {
    "execution": {
     "iopub.execute_input": "2025-05-07T11:20:52.408097Z",
     "iopub.status.busy": "2025-05-07T11:20:52.407590Z",
     "iopub.status.idle": "2025-05-07T11:20:52.411528Z",
     "shell.execute_reply": "2025-05-07T11:20:52.410843Z",
     "shell.execute_reply.started": "2025-05-07T11:20:52.408061Z"
    }
   },
   "outputs": [],
   "source": [
    "def BP(systolic_no,diastolyc_no):\n",
    "    return systolic_no - diastolyc_no"
   ]
  },
  {
   "cell_type": "code",
   "execution_count": 72,
   "id": "7c3d4bb1-59fe-4b02-a879-26f2f2dac92d",
   "metadata": {
    "execution": {
     "iopub.execute_input": "2025-05-07T11:21:00.095299Z",
     "iopub.status.busy": "2025-05-07T11:21:00.094581Z",
     "iopub.status.idle": "2025-05-07T11:21:00.100314Z",
     "shell.execute_reply": "2025-05-07T11:21:00.099609Z",
     "shell.execute_reply.started": "2025-05-07T11:21:00.095263Z"
    }
   },
   "outputs": [
    {
     "data": {
      "text/plain": [
       "40"
      ]
     },
     "execution_count": 72,
     "metadata": {},
     "output_type": "execute_result"
    }
   ],
   "source": [
    "BP(120,80)"
   ]
  },
  {
   "cell_type": "code",
   "execution_count": 82,
   "id": "0bc96662-953e-4997-ae96-d65ef0e681ef",
   "metadata": {
    "execution": {
     "iopub.execute_input": "2025-05-07T11:26:44.956909Z",
     "iopub.status.busy": "2025-05-07T11:26:44.956527Z",
     "iopub.status.idle": "2025-05-07T11:26:44.961445Z",
     "shell.execute_reply": "2025-05-07T11:26:44.960834Z",
     "shell.execute_reply.started": "2025-05-07T11:26:44.956885Z"
    }
   },
   "outputs": [
    {
     "data": {
      "text/plain": [
       "2.23606797749979"
      ]
     },
     "execution_count": 82,
     "metadata": {},
     "output_type": "execute_result"
    }
   ],
   "source": [
    "import math\n",
    "math.sqrt(5)"
   ]
  },
  {
   "cell_type": "code",
   "execution_count": 83,
   "id": "4e5ce270-3b82-4cfd-b0ff-13b1b10d584d",
   "metadata": {
    "execution": {
     "iopub.execute_input": "2025-05-07T11:27:53.007261Z",
     "iopub.status.busy": "2025-05-07T11:27:53.006641Z",
     "iopub.status.idle": "2025-05-07T11:27:53.011887Z",
     "shell.execute_reply": "2025-05-07T11:27:53.011180Z",
     "shell.execute_reply.started": "2025-05-07T11:27:53.007232Z"
    }
   },
   "outputs": [
    {
     "data": {
      "text/plain": [
       "1.0"
      ]
     },
     "execution_count": 83,
     "metadata": {},
     "output_type": "execute_result"
    }
   ],
   "source": [
    "import math\n",
    "math.pow(1,2)"
   ]
  },
  {
   "cell_type": "code",
   "execution_count": 84,
   "id": "afb087be-25ff-4978-b905-142eb25e1ca4",
   "metadata": {
    "execution": {
     "iopub.execute_input": "2025-05-07T11:29:12.447752Z",
     "iopub.status.busy": "2025-05-07T11:29:12.447365Z",
     "iopub.status.idle": "2025-05-07T11:29:12.452242Z",
     "shell.execute_reply": "2025-05-07T11:29:12.451640Z",
     "shell.execute_reply.started": "2025-05-07T11:29:12.447727Z"
    }
   },
   "outputs": [
    {
     "data": {
      "text/plain": [
       "3.141592653589793"
      ]
     },
     "execution_count": 84,
     "metadata": {},
     "output_type": "execute_result"
    }
   ],
   "source": [
    "import math\n",
    "math.pi"
   ]
  },
  {
   "cell_type": "code",
   "execution_count": 85,
   "id": "639b186f-2ccd-4ae7-827c-978eaafb6960",
   "metadata": {
    "execution": {
     "iopub.execute_input": "2025-05-07T11:30:23.887374Z",
     "iopub.status.busy": "2025-05-07T11:30:23.886987Z",
     "iopub.status.idle": "2025-05-07T11:30:23.892418Z",
     "shell.execute_reply": "2025-05-07T11:30:23.891691Z",
     "shell.execute_reply.started": "2025-05-07T11:30:23.887351Z"
    }
   },
   "outputs": [
    {
     "data": {
      "text/plain": [
       "120"
      ]
     },
     "execution_count": 85,
     "metadata": {},
     "output_type": "execute_result"
    }
   ],
   "source": [
    "import math\n",
    "math.factorial(5)"
   ]
  },
  {
   "cell_type": "code",
   "execution_count": 86,
   "id": "8a0e6eac-1273-41fb-a337-d58182148355",
   "metadata": {
    "execution": {
     "iopub.execute_input": "2025-05-07T11:39:35.223323Z",
     "iopub.status.busy": "2025-05-07T11:39:35.222945Z",
     "iopub.status.idle": "2025-05-07T11:39:35.226510Z",
     "shell.execute_reply": "2025-05-07T11:39:35.225811Z",
     "shell.execute_reply.started": "2025-05-07T11:39:35.223300Z"
    }
   },
   "outputs": [],
   "source": [
    "# creating a random numbers of your choice\n",
    "import random"
   ]
  },
  {
   "cell_type": "code",
   "execution_count": 87,
   "id": "3d15a6e6-a294-4b90-885f-e5e76222edf5",
   "metadata": {
    "execution": {
     "iopub.execute_input": "2025-05-07T11:40:02.910431Z",
     "iopub.status.busy": "2025-05-07T11:40:02.909877Z",
     "iopub.status.idle": "2025-05-07T11:40:02.916233Z",
     "shell.execute_reply": "2025-05-07T11:40:02.915454Z",
     "shell.execute_reply.started": "2025-05-07T11:40:02.910395Z"
    }
   },
   "outputs": [
    {
     "data": {
      "text/plain": [
       "4"
      ]
     },
     "execution_count": 87,
     "metadata": {},
     "output_type": "execute_result"
    }
   ],
   "source": [
    "random.randint(1,20)"
   ]
  },
  {
   "cell_type": "code",
   "execution_count": 88,
   "id": "27bb4f18-fbb5-47b4-8921-15550037d627",
   "metadata": {
    "execution": {
     "iopub.execute_input": "2025-05-07T11:41:39.122029Z",
     "iopub.status.busy": "2025-05-07T11:41:39.121681Z",
     "iopub.status.idle": "2025-05-07T11:41:39.126419Z",
     "shell.execute_reply": "2025-05-07T11:41:39.125812Z",
     "shell.execute_reply.started": "2025-05-07T11:41:39.122005Z"
    }
   },
   "outputs": [
    {
     "data": {
      "text/plain": [
       "0.9763822646228675"
      ]
     },
     "execution_count": 88,
     "metadata": {},
     "output_type": "execute_result"
    }
   ],
   "source": [
    "# random\n",
    "random.random()"
   ]
  },
  {
   "cell_type": "code",
   "execution_count": 95,
   "id": "fc9c5ee7-662b-404a-9860-1fb682ed8ff0",
   "metadata": {
    "execution": {
     "iopub.execute_input": "2025-05-07T11:50:04.494049Z",
     "iopub.status.busy": "2025-05-07T11:50:04.493668Z",
     "iopub.status.idle": "2025-05-07T11:50:04.499924Z",
     "shell.execute_reply": "2025-05-07T11:50:04.499286Z",
     "shell.execute_reply.started": "2025-05-07T11:50:04.494014Z"
    }
   },
   "outputs": [
    {
     "data": {
      "text/plain": [
       "'D'"
      ]
     },
     "execution_count": 95,
     "metadata": {},
     "output_type": "execute_result"
    }
   ],
   "source": [
    "# randomly pick of an item\n",
    "mylist=['A','B','C','D']       \n",
    "random.choice(mylist)"
   ]
  },
  {
   "cell_type": "code",
   "execution_count": 109,
   "id": "c434319d-d859-4fd4-928e-b123c32e4062",
   "metadata": {
    "execution": {
     "iopub.execute_input": "2025-05-07T11:55:54.860789Z",
     "iopub.status.busy": "2025-05-07T11:55:54.860403Z",
     "iopub.status.idle": "2025-05-07T11:55:54.865513Z",
     "shell.execute_reply": "2025-05-07T11:55:54.864899Z",
     "shell.execute_reply.started": "2025-05-07T11:55:54.860760Z"
    }
   },
   "outputs": [
    {
     "data": {
      "text/plain": [
       "['BLACK', 'RED', 'PURPLE', 'ORANGE']"
      ]
     },
     "execution_count": 109,
     "metadata": {},
     "output_type": "execute_result"
    }
   ],
   "source": [
    "# randomly shuffle of an item\n",
    "mylist=['RED','ORANGE','PURPLE','BLACK'] \n",
    "random.shuffle(mylist)\n",
    "mylist"
   ]
  },
  {
   "cell_type": "code",
   "execution_count": 115,
   "id": "df25645e-7770-4968-9aed-8551621c1668",
   "metadata": {
    "execution": {
     "iopub.execute_input": "2025-05-07T11:59:24.507583Z",
     "iopub.status.busy": "2025-05-07T11:59:24.507069Z",
     "iopub.status.idle": "2025-05-07T11:59:24.513561Z",
     "shell.execute_reply": "2025-05-07T11:59:24.512899Z",
     "shell.execute_reply.started": "2025-05-07T11:59:24.507546Z"
    }
   },
   "outputs": [
    {
     "data": {
      "text/plain": [
       "3.141198338553321"
      ]
     },
     "execution_count": 115,
     "metadata": {},
     "output_type": "execute_result"
    }
   ],
   "source": [
    "# randomly pick uniform of item\n",
    "a = 3\n",
    "b = 4\n",
    "random.uniform(a,b)"
   ]
  }
 ],
 "metadata": {
  "kernelspec": {
   "display_name": "anaconda-2024.02-py310",
   "language": "python",
   "name": "conda-env-anaconda-2024.02-py310-py"
  },
  "language_info": {
   "codemirror_mode": {
    "name": "ipython",
    "version": 3
   },
   "file_extension": ".py",
   "mimetype": "text/x-python",
   "name": "python",
   "nbconvert_exporter": "python",
   "pygments_lexer": "ipython3",
   "version": "3.10.14"
  }
 },
 "nbformat": 4,
 "nbformat_minor": 5
}
